{
  "nbformat": 4,
  "nbformat_minor": 0,
  "metadata": {
    "colab": {
      "name": "mnist-keras-perceptron.ipynb",
      "provenance": [],
      "collapsed_sections": [],
      "include_colab_link": true
    },
    "kernelspec": {
      "name": "python3",
      "display_name": "Python 3"
    },
    "accelerator": "GPU"
  },
  "cells": [
    {
      "cell_type": "markdown",
      "metadata": {
        "id": "view-in-github",
        "colab_type": "text"
      },
      "source": [
        "<a href=\"https://colab.research.google.com/github/CHIRAGVERMA1/StartingWithPython-ai1-fall2019/blob/master/mnist_keras_perceptron.ipynb\" target=\"_parent\"><img src=\"https://colab.research.google.com/assets/colab-badge.svg\" alt=\"Open In Colab\"/></a>"
      ]
    },
    {
      "cell_type": "code",
      "metadata": {
        "id": "0rrbVKm5n6E3",
        "colab_type": "code",
        "colab": {}
      },
      "source": [
        "# taken from lukas/ml-class\n",
        "import numpy as np\n",
        "from keras.datasets import mnist\n",
        "from keras.models import Sequential\n",
        "from keras.layers import Dense, Flatten, Dropout\n",
        "from keras.utils import np_utils\n",
        "from keras.callbacks import Callback\n",
        "import json\n",
        "\n",
        "# from wandb.keras import WandbCallback\n",
        "# import wandb\n",
        "\n",
        "# run = wandb.init()\n",
        "# config = run.config\n",
        "\n",
        "\n",
        "\n",
        "\n",
        "\n"
      ],
      "execution_count": 0,
      "outputs": []
    },
    {
      "cell_type": "code",
      "metadata": {
        "id": "Hr5So0N9tw7p",
        "colab_type": "code",
        "colab": {
          "base_uri": "https://localhost:8080/",
          "height": 34
        },
        "outputId": "f8310b4b-dfc7-4b2a-e12d-48e54f44ff7e"
      },
      "source": [
        "1+1"
      ],
      "execution_count": 21,
      "outputs": [
        {
          "output_type": "execute_result",
          "data": {
            "text/plain": [
              "2"
            ]
          },
          "metadata": {
            "tags": []
          },
          "execution_count": 21
        }
      ]
    },
    {
      "cell_type": "code",
      "metadata": {
        "id": "vYghIT_8ua7i",
        "colab_type": "code",
        "colab": {}
      },
      "source": [
        ""
      ],
      "execution_count": 0,
      "outputs": []
    },
    {
      "cell_type": "markdown",
      "metadata": {
        "id": "uA5YDvSdubOA",
        "colab_type": "text"
      },
      "source": [
        "### HELLO WORLD\n",
        "\n",
        "####-ONE-TWO\n",
        "\n",
        "-2\n",
        "-3\n",
        "\n",
        "Hello the $\\alpha$ is a greek letter.\n",
        "$$\\alpha + \\beta + \\delta$$\n",
        "\n",
        "---\n",
        "\n",
        "*alpha* **alpha**"
      ]
    },
    {
      "cell_type": "code",
      "metadata": {
        "id": "hRXFS5P4rfKM",
        "colab_type": "code",
        "colab": {
          "base_uri": "https://localhost:8080/",
          "height": 67
        },
        "outputId": "d5210635-487a-4ec1-c599-1e3479918c2c"
      },
      "source": [
        "class Config:\n",
        "  pass\n",
        "\n",
        "config = Config()\n",
        "config.optimizer = \"adam\"\n",
        "config.epochs = 30\n",
        "config.hidden_nodes = 30\n",
        "\n",
        "# load data\n",
        "(X_train, y_train), (X_test, y_test) = mnist.load_data()\n",
        "img_width = X_train.shape[1]\n",
        "img_height = X_train.shape[2]\n",
        "print(X_train.shape, y_train.shape)\n",
        "#X_train = X_train.astype('float32')\n",
        "#X_train /= 255.\n",
        "#X_test = X_test.astype('float32')\n",
        "#X_test /= 255.\n",
        "\n",
        "# Normalize, change learning rate, play with layer size, batchsize\n",
        "\n",
        "# one hot encode outputs\n",
        "y_train = np_utils.to_categorical(y_train)\n",
        "y_test = np_utils.to_categorical(y_test)\n",
        "labels = range(10)\n",
        "\n",
        "num_classes = y_train.shape[1]\n"
      ],
      "execution_count": 7,
      "outputs": [
        {
          "output_type": "stream",
          "text": [
            "Downloading data from https://s3.amazonaws.com/img-datasets/mnist.npz\n",
            "11493376/11490434 [==============================] - 2s 0us/step\n",
            "(60000, 28, 28) (60000,)\n"
          ],
          "name": "stdout"
        }
      ]
    },
    {
      "cell_type": "code",
      "metadata": {
        "id": "2oW0OQUptPwS",
        "colab_type": "code",
        "colab": {
          "base_uri": "https://localhost:8080/",
          "height": 34
        },
        "outputId": "1c6ed61d-a961-42ff-c397-78b8eb6fc20e"
      },
      "source": [
        "y_train[0]"
      ],
      "execution_count": 13,
      "outputs": [
        {
          "output_type": "execute_result",
          "data": {
            "text/plain": [
              "array([0., 0., 0., 0., 0., 1., 0., 0., 0., 0.], dtype=float32)"
            ]
          },
          "metadata": {
            "tags": []
          },
          "execution_count": 13
        }
      ]
    },
    {
      "cell_type": "code",
      "metadata": {
        "id": "pWgBVXLXsMWy",
        "colab_type": "code",
        "colab": {
          "base_uri": "https://localhost:8080/",
          "height": 1000
        },
        "outputId": "cbd86ac8-6902-4864-fa72-328642292733"
      },
      "source": [
        "X_train[0]"
      ],
      "execution_count": 11,
      "outputs": [
        {
          "output_type": "execute_result",
          "data": {
            "text/plain": [
              "array([[  0,   0,   0,   0,   0,   0,   0,   0,   0,   0,   0,   0,   0,\n",
              "          0,   0,   0,   0,   0,   0,   0,   0,   0,   0,   0,   0,   0,\n",
              "          0,   0],\n",
              "       [  0,   0,   0,   0,   0,   0,   0,   0,   0,   0,   0,   0,   0,\n",
              "          0,   0,   0,   0,   0,   0,   0,   0,   0,   0,   0,   0,   0,\n",
              "          0,   0],\n",
              "       [  0,   0,   0,   0,   0,   0,   0,   0,   0,   0,   0,   0,   0,\n",
              "          0,   0,   0,   0,   0,   0,   0,   0,   0,   0,   0,   0,   0,\n",
              "          0,   0],\n",
              "       [  0,   0,   0,   0,   0,   0,   0,   0,   0,   0,   0,   0,   0,\n",
              "          0,   0,   0,   0,   0,   0,   0,   0,   0,   0,   0,   0,   0,\n",
              "          0,   0],\n",
              "       [  0,   0,   0,   0,   0,   0,   0,   0,   0,   0,   0,   0,   0,\n",
              "          0,   0,   0,   0,   0,   0,   0,   0,   0,   0,   0,   0,   0,\n",
              "          0,   0],\n",
              "       [  0,   0,   0,   0,   0,   0,   0,   0,   0,   0,   0,   0,   3,\n",
              "         18,  18,  18, 126, 136, 175,  26, 166, 255, 247, 127,   0,   0,\n",
              "          0,   0],\n",
              "       [  0,   0,   0,   0,   0,   0,   0,   0,  30,  36,  94, 154, 170,\n",
              "        253, 253, 253, 253, 253, 225, 172, 253, 242, 195,  64,   0,   0,\n",
              "          0,   0],\n",
              "       [  0,   0,   0,   0,   0,   0,   0,  49, 238, 253, 253, 253, 253,\n",
              "        253, 253, 253, 253, 251,  93,  82,  82,  56,  39,   0,   0,   0,\n",
              "          0,   0],\n",
              "       [  0,   0,   0,   0,   0,   0,   0,  18, 219, 253, 253, 253, 253,\n",
              "        253, 198, 182, 247, 241,   0,   0,   0,   0,   0,   0,   0,   0,\n",
              "          0,   0],\n",
              "       [  0,   0,   0,   0,   0,   0,   0,   0,  80, 156, 107, 253, 253,\n",
              "        205,  11,   0,  43, 154,   0,   0,   0,   0,   0,   0,   0,   0,\n",
              "          0,   0],\n",
              "       [  0,   0,   0,   0,   0,   0,   0,   0,   0,  14,   1, 154, 253,\n",
              "         90,   0,   0,   0,   0,   0,   0,   0,   0,   0,   0,   0,   0,\n",
              "          0,   0],\n",
              "       [  0,   0,   0,   0,   0,   0,   0,   0,   0,   0,   0, 139, 253,\n",
              "        190,   2,   0,   0,   0,   0,   0,   0,   0,   0,   0,   0,   0,\n",
              "          0,   0],\n",
              "       [  0,   0,   0,   0,   0,   0,   0,   0,   0,   0,   0,  11, 190,\n",
              "        253,  70,   0,   0,   0,   0,   0,   0,   0,   0,   0,   0,   0,\n",
              "          0,   0],\n",
              "       [  0,   0,   0,   0,   0,   0,   0,   0,   0,   0,   0,   0,  35,\n",
              "        241, 225, 160, 108,   1,   0,   0,   0,   0,   0,   0,   0,   0,\n",
              "          0,   0],\n",
              "       [  0,   0,   0,   0,   0,   0,   0,   0,   0,   0,   0,   0,   0,\n",
              "         81, 240, 253, 253, 119,  25,   0,   0,   0,   0,   0,   0,   0,\n",
              "          0,   0],\n",
              "       [  0,   0,   0,   0,   0,   0,   0,   0,   0,   0,   0,   0,   0,\n",
              "          0,  45, 186, 253, 253, 150,  27,   0,   0,   0,   0,   0,   0,\n",
              "          0,   0],\n",
              "       [  0,   0,   0,   0,   0,   0,   0,   0,   0,   0,   0,   0,   0,\n",
              "          0,   0,  16,  93, 252, 253, 187,   0,   0,   0,   0,   0,   0,\n",
              "          0,   0],\n",
              "       [  0,   0,   0,   0,   0,   0,   0,   0,   0,   0,   0,   0,   0,\n",
              "          0,   0,   0,   0, 249, 253, 249,  64,   0,   0,   0,   0,   0,\n",
              "          0,   0],\n",
              "       [  0,   0,   0,   0,   0,   0,   0,   0,   0,   0,   0,   0,   0,\n",
              "          0,  46, 130, 183, 253, 253, 207,   2,   0,   0,   0,   0,   0,\n",
              "          0,   0],\n",
              "       [  0,   0,   0,   0,   0,   0,   0,   0,   0,   0,   0,   0,  39,\n",
              "        148, 229, 253, 253, 253, 250, 182,   0,   0,   0,   0,   0,   0,\n",
              "          0,   0],\n",
              "       [  0,   0,   0,   0,   0,   0,   0,   0,   0,   0,  24, 114, 221,\n",
              "        253, 253, 253, 253, 201,  78,   0,   0,   0,   0,   0,   0,   0,\n",
              "          0,   0],\n",
              "       [  0,   0,   0,   0,   0,   0,   0,   0,  23,  66, 213, 253, 253,\n",
              "        253, 253, 198,  81,   2,   0,   0,   0,   0,   0,   0,   0,   0,\n",
              "          0,   0],\n",
              "       [  0,   0,   0,   0,   0,   0,  18, 171, 219, 253, 253, 253, 253,\n",
              "        195,  80,   9,   0,   0,   0,   0,   0,   0,   0,   0,   0,   0,\n",
              "          0,   0],\n",
              "       [  0,   0,   0,   0,  55, 172, 226, 253, 253, 253, 253, 244, 133,\n",
              "         11,   0,   0,   0,   0,   0,   0,   0,   0,   0,   0,   0,   0,\n",
              "          0,   0],\n",
              "       [  0,   0,   0,   0, 136, 253, 253, 253, 212, 135, 132,  16,   0,\n",
              "          0,   0,   0,   0,   0,   0,   0,   0,   0,   0,   0,   0,   0,\n",
              "          0,   0],\n",
              "       [  0,   0,   0,   0,   0,   0,   0,   0,   0,   0,   0,   0,   0,\n",
              "          0,   0,   0,   0,   0,   0,   0,   0,   0,   0,   0,   0,   0,\n",
              "          0,   0],\n",
              "       [  0,   0,   0,   0,   0,   0,   0,   0,   0,   0,   0,   0,   0,\n",
              "          0,   0,   0,   0,   0,   0,   0,   0,   0,   0,   0,   0,   0,\n",
              "          0,   0],\n",
              "       [  0,   0,   0,   0,   0,   0,   0,   0,   0,   0,   0,   0,   0,\n",
              "          0,   0,   0,   0,   0,   0,   0,   0,   0,   0,   0,   0,   0,\n",
              "          0,   0]], dtype=uint8)"
            ]
          },
          "metadata": {
            "tags": []
          },
          "execution_count": 11
        }
      ]
    },
    {
      "cell_type": "code",
      "metadata": {
        "id": "rsAKoiiHtZGZ",
        "colab_type": "code",
        "colab": {
          "base_uri": "https://localhost:8080/",
          "height": 34
        },
        "outputId": "6602d70c-0019-42a8-c56b-a35af6540aad"
      },
      "source": [
        "X_train.shape"
      ],
      "execution_count": 17,
      "outputs": [
        {
          "output_type": "execute_result",
          "data": {
            "text/plain": [
              "(60000, 28, 28)"
            ]
          },
          "metadata": {
            "tags": []
          },
          "execution_count": 17
        }
      ]
    },
    {
      "cell_type": "code",
      "metadata": {
        "id": "tDwsTKXmtrUJ",
        "colab_type": "code",
        "colab": {
          "base_uri": "https://localhost:8080/",
          "height": 34
        },
        "outputId": "1aed5e57-c7de-4c9a-cd37-c3f5b71ef68e"
      },
      "source": [
        "y_train.shape"
      ],
      "execution_count": 18,
      "outputs": [
        {
          "output_type": "execute_result",
          "data": {
            "text/plain": [
              "(60000, 10)"
            ]
          },
          "metadata": {
            "tags": []
          },
          "execution_count": 18
        }
      ]
    },
    {
      "cell_type": "code",
      "metadata": {
        "id": "pg1XjGkOrfQp",
        "colab_type": "code",
        "colab": {
          "base_uri": "https://localhost:8080/",
          "height": 474
        },
        "outputId": "8a10aab0-9c70-43f0-9be6-cadf5ad11074"
      },
      "source": [
        "# create model\n",
        "model = Sequential()\n",
        "model.add(Flatten(input_shape=(img_width, img_height)))\n",
        "model.add(Dense(config.hidden_nodes, activation='relu'))\n",
        "model.add(Dense(config.hidden_nodes, activation='relu'))\n",
        "model.add(Dense(num_classes, activation='softmax'))\n",
        "model.compile(loss='categorical_crossentropy', optimizer=config.optimizer,\n",
        "              metrics=['accuracy'])\n",
        "model.summary()"
      ],
      "execution_count": 8,
      "outputs": [
        {
          "output_type": "stream",
          "text": [
            "WARNING:tensorflow:From /usr/local/lib/python3.6/dist-packages/keras/backend/tensorflow_backend.py:66: The name tf.get_default_graph is deprecated. Please use tf.compat.v1.get_default_graph instead.\n",
            "\n",
            "WARNING:tensorflow:From /usr/local/lib/python3.6/dist-packages/keras/backend/tensorflow_backend.py:541: The name tf.placeholder is deprecated. Please use tf.compat.v1.placeholder instead.\n",
            "\n",
            "WARNING:tensorflow:From /usr/local/lib/python3.6/dist-packages/keras/backend/tensorflow_backend.py:4432: The name tf.random_uniform is deprecated. Please use tf.random.uniform instead.\n",
            "\n",
            "WARNING:tensorflow:From /usr/local/lib/python3.6/dist-packages/keras/optimizers.py:793: The name tf.train.Optimizer is deprecated. Please use tf.compat.v1.train.Optimizer instead.\n",
            "\n",
            "WARNING:tensorflow:From /usr/local/lib/python3.6/dist-packages/keras/backend/tensorflow_backend.py:3576: The name tf.log is deprecated. Please use tf.math.log instead.\n",
            "\n",
            "Model: \"sequential_1\"\n",
            "_________________________________________________________________\n",
            "Layer (type)                 Output Shape              Param #   \n",
            "=================================================================\n",
            "flatten_1 (Flatten)          (None, 784)               0         \n",
            "_________________________________________________________________\n",
            "dense_1 (Dense)              (None, 30)                23550     \n",
            "_________________________________________________________________\n",
            "dense_2 (Dense)              (None, 30)                930       \n",
            "_________________________________________________________________\n",
            "dense_3 (Dense)              (None, 10)                310       \n",
            "=================================================================\n",
            "Total params: 24,790\n",
            "Trainable params: 24,790\n",
            "Non-trainable params: 0\n",
            "_________________________________________________________________\n"
          ],
          "name": "stdout"
        }
      ]
    },
    {
      "cell_type": "code",
      "metadata": {
        "id": "lh6A5yu7rfWu",
        "colab_type": "code",
        "colab": {
          "base_uri": "https://localhost:8080/",
          "height": 1000
        },
        "outputId": "0ab9fe5b-eaea-400b-9a64-9f86379609f4"
      },
      "source": [
        "# Fit the model\n",
        "model.fit(X_train, y_train, validation_data=(X_test, y_test),\n",
        "          epochs=config.epochs)"
      ],
      "execution_count": 9,
      "outputs": [
        {
          "output_type": "stream",
          "text": [
            "WARNING:tensorflow:From /usr/local/lib/python3.6/dist-packages/tensorflow/python/ops/math_grad.py:1250: add_dispatch_support.<locals>.wrapper (from tensorflow.python.ops.array_ops) is deprecated and will be removed in a future version.\n",
            "Instructions for updating:\n",
            "Use tf.where in 2.0, which has the same broadcast rule as np.where\n",
            "WARNING:tensorflow:From /usr/local/lib/python3.6/dist-packages/keras/backend/tensorflow_backend.py:1033: The name tf.assign_add is deprecated. Please use tf.compat.v1.assign_add instead.\n",
            "\n",
            "Train on 60000 samples, validate on 10000 samples\n",
            "Epoch 1/30\n",
            "60000/60000 [==============================] - 14s 226us/step - loss: 5.5056 - acc: 0.6426 - val_loss: 4.5613 - val_acc: 0.7081\n",
            "Epoch 2/30\n",
            "60000/60000 [==============================] - 9s 156us/step - loss: 4.4348 - acc: 0.7168 - val_loss: 4.3175 - val_acc: 0.7275\n",
            "Epoch 3/30\n",
            "60000/60000 [==============================] - 9s 155us/step - loss: 4.3075 - acc: 0.7271 - val_loss: 4.1116 - val_acc: 0.7413\n",
            "Epoch 4/30\n",
            "60000/60000 [==============================] - 9s 156us/step - loss: 4.2332 - acc: 0.7329 - val_loss: 4.5217 - val_acc: 0.7140\n",
            "Epoch 5/30\n",
            "60000/60000 [==============================] - 9s 155us/step - loss: 4.2671 - acc: 0.7318 - val_loss: 4.2358 - val_acc: 0.7338\n",
            "Epoch 6/30\n",
            "60000/60000 [==============================] - 10s 163us/step - loss: 4.2537 - acc: 0.7332 - val_loss: 4.3415 - val_acc: 0.7279\n",
            "Epoch 7/30\n",
            "60000/60000 [==============================] - 9s 158us/step - loss: 4.2447 - acc: 0.7343 - val_loss: 4.3754 - val_acc: 0.7257\n",
            "Epoch 8/30\n",
            "60000/60000 [==============================] - 9s 156us/step - loss: 4.2108 - acc: 0.7366 - val_loss: 4.1889 - val_acc: 0.7385\n",
            "Epoch 9/30\n",
            "60000/60000 [==============================] - 9s 155us/step - loss: 4.1366 - acc: 0.7414 - val_loss: 2.9289 - val_acc: 0.8153\n",
            "Epoch 10/30\n",
            "60000/60000 [==============================] - 9s 158us/step - loss: 2.5554 - acc: 0.8392 - val_loss: 2.5427 - val_acc: 0.8407\n",
            "Epoch 11/30\n",
            "60000/60000 [==============================] - 10s 160us/step - loss: 2.4958 - acc: 0.8433 - val_loss: 2.7431 - val_acc: 0.8274\n",
            "Epoch 12/30\n",
            "60000/60000 [==============================] - 9s 154us/step - loss: 2.4962 - acc: 0.8435 - val_loss: 2.3463 - val_acc: 0.8526\n",
            "Epoch 13/30\n",
            "60000/60000 [==============================] - 9s 154us/step - loss: 2.4415 - acc: 0.8469 - val_loss: 2.3789 - val_acc: 0.8510\n",
            "Epoch 14/30\n",
            "60000/60000 [==============================] - 9s 156us/step - loss: 2.4258 - acc: 0.8484 - val_loss: 2.4857 - val_acc: 0.8444\n",
            "Epoch 15/30\n",
            "60000/60000 [==============================] - 9s 156us/step - loss: 2.4227 - acc: 0.8484 - val_loss: 2.3844 - val_acc: 0.8508\n",
            "Epoch 16/30\n",
            "60000/60000 [==============================] - 9s 154us/step - loss: 2.4863 - acc: 0.8444 - val_loss: 2.3393 - val_acc: 0.8538\n",
            "Epoch 17/30\n",
            "60000/60000 [==============================] - 9s 155us/step - loss: 2.4455 - acc: 0.8472 - val_loss: 2.4438 - val_acc: 0.8470\n",
            "Epoch 18/30\n",
            "60000/60000 [==============================] - 9s 156us/step - loss: 2.4047 - acc: 0.8500 - val_loss: 2.4366 - val_acc: 0.8476\n",
            "Epoch 19/30\n",
            "60000/60000 [==============================] - 9s 154us/step - loss: 2.4069 - acc: 0.8497 - val_loss: 2.4138 - val_acc: 0.8497\n",
            "Epoch 20/30\n",
            "60000/60000 [==============================] - 9s 154us/step - loss: 2.4163 - acc: 0.8490 - val_loss: 2.3178 - val_acc: 0.8556\n",
            "Epoch 21/30\n",
            "60000/60000 [==============================] - 9s 155us/step - loss: 2.4368 - acc: 0.8479 - val_loss: 2.6245 - val_acc: 0.8359\n",
            "Epoch 22/30\n",
            "60000/60000 [==============================] - 9s 154us/step - loss: 2.3883 - acc: 0.8510 - val_loss: 2.3926 - val_acc: 0.8505\n",
            "Epoch 23/30\n",
            "60000/60000 [==============================] - 9s 155us/step - loss: 2.3493 - acc: 0.8534 - val_loss: 2.4660 - val_acc: 0.8460\n",
            "Epoch 24/30\n",
            "60000/60000 [==============================] - 9s 155us/step - loss: 2.4573 - acc: 0.8468 - val_loss: 2.4625 - val_acc: 0.8468\n",
            "Epoch 25/30\n",
            "60000/60000 [==============================] - 9s 155us/step - loss: 2.4403 - acc: 0.8480 - val_loss: 2.3864 - val_acc: 0.8510\n",
            "Epoch 26/30\n",
            "60000/60000 [==============================] - 9s 153us/step - loss: 2.4137 - acc: 0.8494 - val_loss: 2.5602 - val_acc: 0.8404\n",
            "Epoch 27/30\n",
            "60000/60000 [==============================] - 9s 154us/step - loss: 2.3558 - acc: 0.8531 - val_loss: 2.5433 - val_acc: 0.8412\n",
            "Epoch 28/30\n",
            "60000/60000 [==============================] - 9s 157us/step - loss: 2.3685 - acc: 0.8523 - val_loss: 2.3798 - val_acc: 0.8520\n",
            "Epoch 29/30\n",
            "60000/60000 [==============================] - 9s 153us/step - loss: 2.3864 - acc: 0.8515 - val_loss: 2.2653 - val_acc: 0.8587\n",
            "Epoch 30/30\n",
            "60000/60000 [==============================] - 9s 153us/step - loss: 2.3342 - acc: 0.8546 - val_loss: 2.2206 - val_acc: 0.8619\n"
          ],
          "name": "stdout"
        },
        {
          "output_type": "execute_result",
          "data": {
            "text/plain": [
              "<keras.callbacks.History at 0x7f817349ed68>"
            ]
          },
          "metadata": {
            "tags": []
          },
          "execution_count": 9
        }
      ]
    },
    {
      "cell_type": "code",
      "metadata": {
        "id": "e2SFSg8Qxiqp",
        "colab_type": "code",
        "colab": {
          "base_uri": "https://localhost:8080/",
          "height": 34
        },
        "outputId": "74545b99-8236-47fe-9f2a-09327a572e43"
      },
      "source": [
        "X_test.shape"
      ],
      "execution_count": 22,
      "outputs": [
        {
          "output_type": "execute_result",
          "data": {
            "text/plain": [
              "(10000, 28, 28)"
            ]
          },
          "metadata": {
            "tags": []
          },
          "execution_count": 22
        }
      ]
    },
    {
      "cell_type": "code",
      "metadata": {
        "id": "2YftkKnNxl47",
        "colab_type": "code",
        "colab": {
          "base_uri": "https://localhost:8080/",
          "height": 34
        },
        "outputId": "18b5607c-aa7d-42df-a9ab-feb93b687963"
      },
      "source": [
        "y_test.shape"
      ],
      "execution_count": 23,
      "outputs": [
        {
          "output_type": "execute_result",
          "data": {
            "text/plain": [
              "(10000, 10)"
            ]
          },
          "metadata": {
            "tags": []
          },
          "execution_count": 23
        }
      ]
    },
    {
      "cell_type": "code",
      "metadata": {
        "id": "F8gyTuApxpRS",
        "colab_type": "code",
        "colab": {
          "base_uri": "https://localhost:8080/",
          "height": 1000
        },
        "outputId": "ebf40c08-66ee-4558-8f6f-52db6e8aa12c"
      },
      "source": [
        "dir()"
      ],
      "execution_count": 25,
      "outputs": [
        {
          "output_type": "execute_result",
          "data": {
            "text/plain": [
              "['Callback',\n",
              " 'Config',\n",
              " 'Dense',\n",
              " 'Dropout',\n",
              " 'Flatten',\n",
              " 'In',\n",
              " 'Out',\n",
              " 'Sequential',\n",
              " 'X_test',\n",
              " 'X_train',\n",
              " '_',\n",
              " '_10',\n",
              " '_11',\n",
              " '_12',\n",
              " '_13',\n",
              " '_16',\n",
              " '_17',\n",
              " '_18',\n",
              " '_2',\n",
              " '_21',\n",
              " '_22',\n",
              " '_23',\n",
              " '_9',\n",
              " '__',\n",
              " '___',\n",
              " '__builtin__',\n",
              " '__builtins__',\n",
              " '__doc__',\n",
              " '__loader__',\n",
              " '__name__',\n",
              " '__package__',\n",
              " '__spec__',\n",
              " '_dh',\n",
              " '_i',\n",
              " '_i1',\n",
              " '_i10',\n",
              " '_i11',\n",
              " '_i12',\n",
              " '_i13',\n",
              " '_i14',\n",
              " '_i15',\n",
              " '_i16',\n",
              " '_i17',\n",
              " '_i18',\n",
              " '_i19',\n",
              " '_i2',\n",
              " '_i20',\n",
              " '_i21',\n",
              " '_i22',\n",
              " '_i23',\n",
              " '_i24',\n",
              " '_i25',\n",
              " '_i3',\n",
              " '_i4',\n",
              " '_i5',\n",
              " '_i6',\n",
              " '_i7',\n",
              " '_i8',\n",
              " '_i9',\n",
              " '_ih',\n",
              " '_ii',\n",
              " '_iii',\n",
              " '_oh',\n",
              " '_sh',\n",
              " 'a',\n",
              " 'config',\n",
              " 'exit',\n",
              " 'get_ipython',\n",
              " 'img_height',\n",
              " 'img_width',\n",
              " 'json',\n",
              " 'labels',\n",
              " 'mnist',\n",
              " 'model',\n",
              " 'np',\n",
              " 'np_utils',\n",
              " 'num_classes',\n",
              " 'quit',\n",
              " 'y_test',\n",
              " 'y_train']"
            ]
          },
          "metadata": {
            "tags": []
          },
          "execution_count": 25
        }
      ]
    },
    {
      "cell_type": "code",
      "metadata": {
        "id": "RW3QXg7QyHd1",
        "colab_type": "code",
        "colab": {}
      },
      "source": [
        "import matplotlib.pyplot as plt"
      ],
      "execution_count": 0,
      "outputs": []
    },
    {
      "cell_type": "code",
      "metadata": {
        "id": "9Pxjzuadz6iQ",
        "colab_type": "code",
        "colab": {
          "base_uri": "https://localhost:8080/",
          "height": 1000
        },
        "outputId": "6810e45b-55ce-4cfa-fbd5-207bb8fc0aa3"
      },
      "source": [
        "# Fit the model\n",
        "history= model.fit(X_train, y_train, validation_data=(X_test, y_test),\n",
        "          epochs=config.epochs)"
      ],
      "execution_count": 29,
      "outputs": [
        {
          "output_type": "stream",
          "text": [
            "Train on 60000 samples, validate on 10000 samples\n",
            "Epoch 1/30\n",
            "60000/60000 [==============================] - 9s 146us/step - loss: 2.3194 - acc: 0.8555 - val_loss: 2.2833 - val_acc: 0.8579\n",
            "Epoch 2/30\n",
            "60000/60000 [==============================] - 9s 146us/step - loss: 2.3644 - acc: 0.8529 - val_loss: 2.4841 - val_acc: 0.8454\n",
            "Epoch 3/30\n",
            "60000/60000 [==============================] - 9s 147us/step - loss: 2.3681 - acc: 0.8526 - val_loss: 2.2164 - val_acc: 0.8618\n",
            "Epoch 4/30\n",
            "60000/60000 [==============================] - 9s 146us/step - loss: 2.4002 - acc: 0.8506 - val_loss: 2.2984 - val_acc: 0.8567\n",
            "Epoch 5/30\n",
            "60000/60000 [==============================] - 9s 146us/step - loss: 2.3737 - acc: 0.8523 - val_loss: 2.3729 - val_acc: 0.8519\n",
            "Epoch 6/30\n",
            "60000/60000 [==============================] - 9s 148us/step - loss: 2.3644 - acc: 0.8528 - val_loss: 2.2408 - val_acc: 0.8602\n",
            "Epoch 7/30\n",
            "60000/60000 [==============================] - 9s 147us/step - loss: 2.3087 - acc: 0.8563 - val_loss: 2.3313 - val_acc: 0.8550\n",
            "Epoch 8/30\n",
            "60000/60000 [==============================] - 9s 148us/step - loss: 2.3447 - acc: 0.8541 - val_loss: 2.3684 - val_acc: 0.8526\n",
            "Epoch 9/30\n",
            "60000/60000 [==============================] - 9s 148us/step - loss: 2.3394 - acc: 0.8545 - val_loss: 2.2562 - val_acc: 0.8599\n",
            "Epoch 10/30\n",
            "60000/60000 [==============================] - 9s 147us/step - loss: 2.3813 - acc: 0.8519 - val_loss: 2.3414 - val_acc: 0.8546\n",
            "Epoch 11/30\n",
            "60000/60000 [==============================] - 9s 148us/step - loss: 2.3667 - acc: 0.8528 - val_loss: 2.3457 - val_acc: 0.8543\n",
            "Epoch 12/30\n",
            "60000/60000 [==============================] - 9s 149us/step - loss: 2.3600 - acc: 0.8532 - val_loss: 2.3104 - val_acc: 0.8564\n",
            "Epoch 13/30\n",
            "60000/60000 [==============================] - 9s 146us/step - loss: 2.3434 - acc: 0.8541 - val_loss: 2.3706 - val_acc: 0.8528\n",
            "Epoch 14/30\n",
            "60000/60000 [==============================] - 9s 147us/step - loss: 2.3639 - acc: 0.8530 - val_loss: 2.4821 - val_acc: 0.8457\n",
            "Epoch 15/30\n",
            "60000/60000 [==============================] - 9s 148us/step - loss: 2.3194 - acc: 0.8557 - val_loss: 2.2742 - val_acc: 0.8587\n",
            "Epoch 16/30\n",
            "60000/60000 [==============================] - 9s 146us/step - loss: 2.3037 - acc: 0.8568 - val_loss: 2.2201 - val_acc: 0.8620\n",
            "Epoch 17/30\n",
            "60000/60000 [==============================] - 9s 147us/step - loss: 2.3259 - acc: 0.8552 - val_loss: 2.3466 - val_acc: 0.8541\n",
            "Epoch 18/30\n",
            "60000/60000 [==============================] - 9s 147us/step - loss: 2.2873 - acc: 0.8578 - val_loss: 2.3098 - val_acc: 0.8562\n",
            "Epoch 19/30\n",
            "60000/60000 [==============================] - 9s 150us/step - loss: 2.3710 - acc: 0.8527 - val_loss: 2.4827 - val_acc: 0.8455\n",
            "Epoch 20/30\n",
            "60000/60000 [==============================] - 9s 147us/step - loss: 2.3615 - acc: 0.8531 - val_loss: 2.3636 - val_acc: 0.8530\n",
            "Epoch 21/30\n",
            "60000/60000 [==============================] - 9s 149us/step - loss: 2.4276 - acc: 0.8491 - val_loss: 2.4322 - val_acc: 0.8486\n",
            "Epoch 22/30\n",
            "60000/60000 [==============================] - 9s 150us/step - loss: 2.2551 - acc: 0.8598 - val_loss: 2.2792 - val_acc: 0.8585\n",
            "Epoch 23/30\n",
            "60000/60000 [==============================] - 9s 148us/step - loss: 2.2962 - acc: 0.8573 - val_loss: 2.3851 - val_acc: 0.8517\n",
            "Epoch 24/30\n",
            "60000/60000 [==============================] - 9s 148us/step - loss: 2.3219 - acc: 0.8556 - val_loss: 2.2938 - val_acc: 0.8576\n",
            "Epoch 25/30\n",
            "60000/60000 [==============================] - 9s 151us/step - loss: 2.3419 - acc: 0.8545 - val_loss: 2.3597 - val_acc: 0.8535\n",
            "Epoch 26/30\n",
            "60000/60000 [==============================] - 9s 148us/step - loss: 2.3385 - acc: 0.8547 - val_loss: 2.3803 - val_acc: 0.8521\n",
            "Epoch 27/30\n",
            "60000/60000 [==============================] - 9s 147us/step - loss: 2.3526 - acc: 0.8537 - val_loss: 2.3897 - val_acc: 0.8516\n",
            "Epoch 28/30\n",
            "60000/60000 [==============================] - 9s 148us/step - loss: 2.2835 - acc: 0.8580 - val_loss: 2.2578 - val_acc: 0.8597\n",
            "Epoch 29/30\n",
            "60000/60000 [==============================] - 9s 147us/step - loss: 2.3618 - acc: 0.8532 - val_loss: 2.4832 - val_acc: 0.8455\n",
            "Epoch 30/30\n",
            "60000/60000 [==============================] - 9s 147us/step - loss: 2.3144 - acc: 0.8562 - val_loss: 2.4391 - val_acc: 0.8483\n"
          ],
          "name": "stdout"
        }
      ]
    },
    {
      "cell_type": "code",
      "metadata": {
        "id": "Sg-02eQX1xsA",
        "colab_type": "code",
        "colab": {}
      },
      "source": [
        "a = np.arange(-10,10,0.1)\n",
        "b = np.arange(-10,10,0.1)\n",
        "c = lambda a,b: (a +b - 2)**2"
      ],
      "execution_count": 0,
      "outputs": []
    },
    {
      "cell_type": "code",
      "metadata": {
        "id": "w96mEnKV2bDN",
        "colab_type": "code",
        "colab": {
          "base_uri": "https://localhost:8080/",
          "height": 286
        },
        "outputId": "26c41fb7-8d7b-4587-d54b-37681abd636b"
      },
      "source": [
        "plt.plot (a, c(a, 0))"
      ],
      "execution_count": 38,
      "outputs": [
        {
          "output_type": "execute_result",
          "data": {
            "text/plain": [
              "[<matplotlib.lines.Line2D at 0x7f8127bffa20>]"
            ]
          },
          "metadata": {
            "tags": []
          },
          "execution_count": 38
        },
        {
          "output_type": "display_data",
          "data": {
            "image/png": "[encoded data removed]",
            "text/plain": [
              "<Figure size 432x288 with 1 Axes>"
            ]
          },
          "metadata": {
            "tags": []
          }
        }
      ]
    },
    {
      "cell_type": "code",
      "metadata": {
        "id": "lSZc6ZQ72gqx",
        "colab_type": "code",
        "colab": {
          "base_uri": "https://localhost:8080/",
          "height": 286
        },
        "outputId": "c58cc346-aa3c-4058-b259-e40eae68d027"
      },
      "source": [
        "plt.plot (b, c(0, b))"
      ],
      "execution_count": 39,
      "outputs": [
        {
          "output_type": "execute_result",
          "data": {
            "text/plain": [
              "[<matplotlib.lines.Line2D at 0x7f812533a668>]"
            ]
          },
          "metadata": {
            "tags": []
          },
          "execution_count": 39
        },
        {
          "output_type": "display_data",
          "data": {
            "image/png": "[encoded data removed]",
            "text/plain": [
              "<Figure size 432x288 with 1 Axes>"
            ]
          },
          "metadata": {
            "tags": []
          }
        }
      ]
    },
    {
      "cell_type": "code",
      "metadata": {
        "id": "QRV3bj4_3CPs",
        "colab_type": "code",
        "colab": {
          "base_uri": "https://localhost:8080/",
          "height": 34
        },
        "outputId": "fcc89923-e0c9-4175-a6e6-a23609d43669"
      },
      "source": [
        "history"
      ],
      "execution_count": 40,
      "outputs": [
        {
          "output_type": "execute_result",
          "data": {
            "text/plain": [
              "<keras.callbacks.History at 0x7f81730e4278>"
            ]
          },
          "metadata": {
            "tags": []
          },
          "execution_count": 40
        }
      ]
    },
    {
      "cell_type": "code",
      "metadata": {
        "id": "ENebawO_5IO2",
        "colab_type": "code",
        "colab": {
          "base_uri": "https://localhost:8080/",
          "height": 521
        },
        "outputId": "f4e04328-1a04-4f5b-8173-f6b10b32eecb"
      },
      "source": [
        "history.epoch"
      ],
      "execution_count": 41,
      "outputs": [
        {
          "output_type": "execute_result",
          "data": {
            "text/plain": [
              "[0,\n",
              " 1,\n",
              " 2,\n",
              " 3,\n",
              " 4,\n",
              " 5,\n",
              " 6,\n",
              " 7,\n",
              " 8,\n",
              " 9,\n",
              " 10,\n",
              " 11,\n",
              " 12,\n",
              " 13,\n",
              " 14,\n",
              " 15,\n",
              " 16,\n",
              " 17,\n",
              " 18,\n",
              " 19,\n",
              " 20,\n",
              " 21,\n",
              " 22,\n",
              " 23,\n",
              " 24,\n",
              " 25,\n",
              " 26,\n",
              " 27,\n",
              " 28,\n",
              " 29]"
            ]
          },
          "metadata": {
            "tags": []
          },
          "execution_count": 41
        }
      ]
    },
    {
      "cell_type": "code",
      "metadata": {
        "id": "RXWr_QJh5Rr0",
        "colab_type": "code",
        "colab": {
          "base_uri": "https://localhost:8080/",
          "height": 1000
        },
        "outputId": "26bb1ac6-1027-4a3e-d327-3c8ee8d7abeb"
      },
      "source": [
        "history.history"
      ],
      "execution_count": 42,
      "outputs": [
        {
          "output_type": "execute_result",
          "data": {
            "text/plain": [
              "{'acc': [0.8555166666666667,\n",
              "  0.8529166666666667,\n",
              "  0.8525666666666667,\n",
              "  0.85055,\n",
              "  0.8523166666666666,\n",
              "  0.8528,\n",
              "  0.8563333333333333,\n",
              "  0.8541166666666666,\n",
              "  0.8545,\n",
              "  0.8518666666666667,\n",
              "  0.8527666666666667,\n",
              "  0.8532,\n",
              "  0.85415,\n",
              "  0.85305,\n",
              "  0.8557,\n",
              "  0.8568,\n",
              "  0.8552,\n",
              "  0.8578,\n",
              "  0.8526666666666667,\n",
              "  0.8530833333333333,\n",
              "  0.8491166666666666,\n",
              "  0.8598166666666667,\n",
              "  0.8573,\n",
              "  0.8556333333333334,\n",
              "  0.8545166666666667,\n",
              "  0.8546666666666667,\n",
              "  0.8537333333333333,\n",
              "  0.85805,\n",
              "  0.8532,\n",
              "  0.8561666666666666],\n",
              " 'loss': [2.3194281312028577,\n",
              "  2.364353225803375,\n",
              "  2.36810794078509,\n",
              "  2.4001597966194153,\n",
              "  2.373741586463858,\n",
              "  2.36443548784256,\n",
              "  2.308685164864858,\n",
              "  2.3447012970000634,\n",
              "  2.339393124681712,\n",
              "  2.381296070512136,\n",
              "  2.3666611752427724,\n",
              "  2.3600183151245115,\n",
              "  2.343367243729035,\n",
              "  2.363893952911099,\n",
              "  2.3194323229180127,\n",
              "  2.3037476964930694,\n",
              "  2.325945013395945,\n",
              "  2.2873408020655313,\n",
              "  2.3709577273613465,\n",
              "  2.3614698868751525,\n",
              "  2.4275985242143836,\n",
              "  2.2550832858403522,\n",
              "  2.296218564605713,\n",
              "  2.321893738103134,\n",
              "  2.34188299297393,\n",
              "  2.338487226231893,\n",
              "  2.352649576632182,\n",
              "  2.2835309781681126,\n",
              "  2.3618085936546325,\n",
              "  2.3143936856269836],\n",
              " 'val_acc': [0.8579,\n",
              "  0.8454,\n",
              "  0.8618,\n",
              "  0.8567,\n",
              "  0.8519,\n",
              "  0.8602,\n",
              "  0.855,\n",
              "  0.8526,\n",
              "  0.8599,\n",
              "  0.8546,\n",
              "  0.8543,\n",
              "  0.8564,\n",
              "  0.8528,\n",
              "  0.8457,\n",
              "  0.8587,\n",
              "  0.862,\n",
              "  0.8541,\n",
              "  0.8562,\n",
              "  0.8455,\n",
              "  0.853,\n",
              "  0.8486,\n",
              "  0.8585,\n",
              "  0.8517,\n",
              "  0.8576,\n",
              "  0.8535,\n",
              "  0.8521,\n",
              "  0.8516,\n",
              "  0.8597,\n",
              "  0.8455,\n",
              "  0.8483],\n",
              " 'val_loss': [2.2833218549728396,\n",
              "  2.4840702299118043,\n",
              "  2.2163866039276123,\n",
              "  2.2983760807037354,\n",
              "  2.372887364768982,\n",
              "  2.240768055534363,\n",
              "  2.3312648969650267,\n",
              "  2.368360281562805,\n",
              "  2.256183722114563,\n",
              "  2.341401161003113,\n",
              "  2.3456750707626344,\n",
              "  2.310354498100281,\n",
              "  2.3706100286483767,\n",
              "  2.4820840803146362,\n",
              "  2.27418172243461,\n",
              "  2.2200912855148314,\n",
              "  2.3465715948104857,\n",
              "  2.309806625556946,\n",
              "  2.482733334159851,\n",
              "  2.3635891946792604,\n",
              "  2.4321738342285157,\n",
              "  2.2791708488464355,\n",
              "  2.385053642463684,\n",
              "  2.293751686668396,\n",
              "  2.3596737913250925,\n",
              "  2.3802802019119262,\n",
              "  2.3897317209243774,\n",
              "  2.2577920892715455,\n",
              "  2.48318430519104,\n",
              "  2.439113395118713]}"
            ]
          },
          "metadata": {
            "tags": []
          },
          "execution_count": 42
        }
      ]
    },
    {
      "cell_type": "code",
      "metadata": {
        "id": "_gUif8dN5VJo",
        "colab_type": "code",
        "colab": {
          "base_uri": "https://localhost:8080/",
          "height": 34
        },
        "outputId": "aaa593f7-0fc2-4456-ea25-2427475f44a3"
      },
      "source": [
        "type(history.history)"
      ],
      "execution_count": 43,
      "outputs": [
        {
          "output_type": "execute_result",
          "data": {
            "text/plain": [
              "dict"
            ]
          },
          "metadata": {
            "tags": []
          },
          "execution_count": 43
        }
      ]
    },
    {
      "cell_type": "code",
      "metadata": {
        "id": "qM9gesjz5ayA",
        "colab_type": "code",
        "colab": {
          "base_uri": "https://localhost:8080/",
          "height": 34
        },
        "outputId": "07a8be20-4ea3-417b-f48e-96ec33c7e9b5"
      },
      "source": [
        "history.history.keys()"
      ],
      "execution_count": 45,
      "outputs": [
        {
          "output_type": "execute_result",
          "data": {
            "text/plain": [
              "dict_keys(['val_loss', 'val_acc', 'loss', 'acc'])"
            ]
          },
          "metadata": {
            "tags": []
          },
          "execution_count": 45
        }
      ]
    },
    {
      "cell_type": "code",
      "metadata": {
        "id": "821Xtw0Q5fme",
        "colab_type": "code",
        "colab": {
          "base_uri": "https://localhost:8080/",
          "height": 521
        },
        "outputId": "c9a56eda-b0cc-441c-c83f-7b5697e20557"
      },
      "source": [
        "history.history[\"acc\"]"
      ],
      "execution_count": 46,
      "outputs": [
        {
          "output_type": "execute_result",
          "data": {
            "text/plain": [
              "[0.8555166666666667,\n",
              " 0.8529166666666667,\n",
              " 0.8525666666666667,\n",
              " 0.85055,\n",
              " 0.8523166666666666,\n",
              " 0.8528,\n",
              " 0.8563333333333333,\n",
              " 0.8541166666666666,\n",
              " 0.8545,\n",
              " 0.8518666666666667,\n",
              " 0.8527666666666667,\n",
              " 0.8532,\n",
              " 0.85415,\n",
              " 0.85305,\n",
              " 0.8557,\n",
              " 0.8568,\n",
              " 0.8552,\n",
              " 0.8578,\n",
              " 0.8526666666666667,\n",
              " 0.8530833333333333,\n",
              " 0.8491166666666666,\n",
              " 0.8598166666666667,\n",
              " 0.8573,\n",
              " 0.8556333333333334,\n",
              " 0.8545166666666667,\n",
              " 0.8546666666666667,\n",
              " 0.8537333333333333,\n",
              " 0.85805,\n",
              " 0.8532,\n",
              " 0.8561666666666666]"
            ]
          },
          "metadata": {
            "tags": []
          },
          "execution_count": 46
        }
      ]
    },
    {
      "cell_type": "code",
      "metadata": {
        "id": "LGrAJ5425kzW",
        "colab_type": "code",
        "colab": {
          "base_uri": "https://localhost:8080/",
          "height": 34
        },
        "outputId": "086d4c6c-9265-4967-b152-8b4898040b27"
      },
      "source": [
        "len(history.history[\"acc\"])"
      ],
      "execution_count": 47,
      "outputs": [
        {
          "output_type": "execute_result",
          "data": {
            "text/plain": [
              "30"
            ]
          },
          "metadata": {
            "tags": []
          },
          "execution_count": 47
        }
      ]
    },
    {
      "cell_type": "code",
      "metadata": {
        "id": "c8T4AgVI53Vf",
        "colab_type": "code",
        "colab": {
          "base_uri": "https://localhost:8080/",
          "height": 286
        },
        "outputId": "6c1fc576-821b-4db3-9678-26a0cee0ba33"
      },
      "source": [
        "plt.plot(history.epoch, history.history[\"acc\"])"
      ],
      "execution_count": 49,
      "outputs": [
        {
          "output_type": "execute_result",
          "data": {
            "text/plain": [
              "[<matplotlib.lines.Line2D at 0x7f8125339048>]"
            ]
          },
          "metadata": {
            "tags": []
          },
          "execution_count": 49
        },
        {
          "output_type": "display_data",
          "data": {
            "image/png": "[encoded data removed]",
            "text/plain": [
              "<Figure size 432x288 with 1 Axes>"
            ]
          },
          "metadata": {
            "tags": []
          }
        }
      ]
    },
    {
      "cell_type": "code",
      "metadata": {
        "id": "RDxHLo5w5_aI",
        "colab_type": "code",
        "colab": {
          "base_uri": "https://localhost:8080/",
          "height": 286
        },
        "outputId": "c69afff9-5107-4a17-dcb8-4216301ffb39"
      },
      "source": [
        "plt.plot(history.epoch, history.history[\"acc\"])\n",
        "plt.plot(history.epoch, history.history[\"val_acc\"])"
      ],
      "execution_count": 50,
      "outputs": [
        {
          "output_type": "execute_result",
          "data": {
            "text/plain": [
              "[<matplotlib.lines.Line2D at 0x7f81730f3358>]"
            ]
          },
          "metadata": {
            "tags": []
          },
          "execution_count": 50
        },
        {
          "output_type": "display_data",
          "data": {
            "image/png": "[encoded data removed]",
            "text/plain": [
              "<Figure size 432x288 with 1 Axes>"
            ]
          },
          "metadata": {
            "tags": []
          }
        }
      ]
    },
    {
      "cell_type": "code",
      "metadata": {
        "id": "uxAC_ZCW6GJO",
        "colab_type": "code",
        "colab": {
          "base_uri": "https://localhost:8080/",
          "height": 286
        },
        "outputId": "666afed3-b0be-4881-d088-f42a11468b8f"
      },
      "source": [
        "plt.plot(history.epoch, history.history[\"loss\"])\n",
        "plt.plot(history.epoch, history.history[\"val_loss\"])"
      ],
      "execution_count": 51,
      "outputs": [
        {
          "output_type": "execute_result",
          "data": {
            "text/plain": [
              "[<matplotlib.lines.Line2D at 0x7f8127bd45c0>]"
            ]
          },
          "metadata": {
            "tags": []
          },
          "execution_count": 51
        },
        {
          "output_type": "display_data",
          "data": {
            "image/png": "[encoded data removed]",
            "text/plain": [
              "<Figure size 432x288 with 1 Axes>"
            ]
          },
          "metadata": {
            "tags": []
          }
        }
      ]
    },
    {
      "cell_type": "code",
      "metadata": {
        "id": "dGMq7xab6Q5b",
        "colab_type": "code",
        "colab": {}
      },
      "source": [
        ""
      ],
      "execution_count": 0,
      "outputs": []
    }
  ]
}